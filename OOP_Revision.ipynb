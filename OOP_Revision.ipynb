{
 "cells": [
  {
   "cell_type": "markdown",
   "metadata": {},
   "source": [
    "# Store Product Project\n",
    "\n",
    "In this project, we will design a system for a store that sells different products. The required tasks and classes are:\n",
    "\n",
    "- ```Product```: Resembles a product in the store. We need to know the name, code, price and available quantity of the product.\n",
    "\n",
    "- ```Order```: An order of products. It has customer name, product types and quantities, order date and total price.\n",
    "\n",
    "- ```Store```: This is our store. It should hold an inventory of products and a record of orders, as well as functions to add new products, make an order, show an order and show available products."
   ]
  },
  {
   "cell_type": "code",
   "execution_count": null,
   "metadata": {},
   "outputs": [],
   "source": [
    "class Product:\n",
    "    #TODO: Your code here\n",
    "    pass"
   ]
  },
  {
   "cell_type": "code",
   "execution_count": null,
   "metadata": {},
   "outputs": [],
   "source": [
    "class Order:\n",
    "    #TODO: Your code here\n",
    "    pass"
   ]
  },
  {
   "cell_type": "code",
   "execution_count": null,
   "metadata": {},
   "outputs": [],
   "source": [
    "class Store:\n",
    "    #TODO: Your code here\n",
    "    pass"
   ]
  },
  {
   "cell_type": "markdown",
   "metadata": {},
   "source": [
    "## Great job!"
   ]
  }
 ],
 "metadata": {
  "language_info": {
   "name": "python"
  }
 },
 "nbformat": 4,
 "nbformat_minor": 2
}
